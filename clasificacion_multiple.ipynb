{
  "nbformat": 4,
  "nbformat_minor": 0,
  "metadata": {
    "colab": {
      "provenance": [],
      "authorship_tag": "ABX9TyPgvGJBDQrsHnKh3xtQLRrB",
      "include_colab_link": true
    },
    "kernelspec": {
      "name": "python3",
      "display_name": "Python 3"
    },
    "language_info": {
      "name": "python"
    },
    "accelerator": "GPU",
    "gpuClass": "standard"
  },
  "cells": [
    {
      "cell_type": "markdown",
      "metadata": {
        "id": "view-in-github",
        "colab_type": "text"
      },
      "source": [
        "<a href=\"https://colab.research.google.com/github/TeoGM97/Clasificacion_Multiple/blob/master/clasificacion_multiple.ipynb\" target=\"_parent\"><img src=\"https://colab.research.google.com/assets/colab-badge.svg\" alt=\"Open In Colab\"/></a>"
      ]
    },
    {
      "cell_type": "code",
      "execution_count": null,
      "metadata": {
        "id": "Tc8Hf_JJrr6o"
      },
      "outputs": [],
      "source": [
        "import numpy as np\n",
        "from keras import layers, models\n",
        "from keras.datasets import reuters"
      ]
    },
    {
      "cell_type": "code",
      "source": [
        "(train_data, train_labels),(test_data, test_labels) = reuters.load_data(num_words = 10000)"
      ],
      "metadata": {
        "colab": {
          "base_uri": "https://localhost:8080/"
        },
        "id": "rfEJ-OA6r-RW",
        "outputId": "dd0571b3-457c-4ad4-e396-3abc2253d71d"
      },
      "execution_count": null,
      "outputs": [
        {
          "output_type": "stream",
          "name": "stdout",
          "text": [
            "Downloading data from https://storage.googleapis.com/tensorflow/tf-keras-datasets/reuters.npz\n",
            "2110848/2110848 [==============================] - 0s 0us/step\n"
          ]
        }
      ]
    },
    {
      "cell_type": "markdown",
      "source": [
        "Igual que en la clasificacion binaria, tenemos varios numeros que representan palabras"
      ],
      "metadata": {
        "id": "l0OqIr4WsgeQ"
      }
    },
    {
      "cell_type": "code",
      "source": [
        "word_index = reuters.get_word_index()\n",
        "word_index = dict([(value,key) for (key,value) in word_index.items()])\n",
        "for _ in train_data[0]: #Tiene un valor de 38 posibhles salidas\n",
        "  print(word_index.get (_ -3))"
      ],
      "metadata": {
        "colab": {
          "base_uri": "https://localhost:8080/"
        },
        "id": "gNVBxFoosaWf",
        "outputId": "fed9e278-40d0-4407-a960-f8d676ef843a"
      },
      "execution_count": null,
      "outputs": [
        {
          "output_type": "stream",
          "name": "stdout",
          "text": [
            "Downloading data from https://storage.googleapis.com/tensorflow/tf-keras-datasets/reuters_word_index.json\n",
            "550378/550378 [==============================] - 0s 0us/step\n",
            "None\n",
            "None\n",
            "None\n",
            "said\n",
            "as\n",
            "a\n",
            "result\n",
            "of\n",
            "its\n",
            "december\n",
            "acquisition\n",
            "of\n",
            "space\n",
            "co\n",
            "it\n",
            "expects\n",
            "earnings\n",
            "per\n",
            "share\n",
            "in\n",
            "1987\n",
            "of\n",
            "1\n",
            "15\n",
            "to\n",
            "1\n",
            "30\n",
            "dlrs\n",
            "per\n",
            "share\n",
            "up\n",
            "from\n",
            "70\n",
            "cts\n",
            "in\n",
            "1986\n",
            "the\n",
            "company\n",
            "said\n",
            "pretax\n",
            "net\n",
            "should\n",
            "rise\n",
            "to\n",
            "nine\n",
            "to\n",
            "10\n",
            "mln\n",
            "dlrs\n",
            "from\n",
            "six\n",
            "mln\n",
            "dlrs\n",
            "in\n",
            "1986\n",
            "and\n",
            "rental\n",
            "operation\n",
            "revenues\n",
            "to\n",
            "19\n",
            "to\n",
            "22\n",
            "mln\n",
            "dlrs\n",
            "from\n",
            "12\n",
            "5\n",
            "mln\n",
            "dlrs\n",
            "it\n",
            "said\n",
            "cash\n",
            "flow\n",
            "per\n",
            "share\n",
            "this\n",
            "year\n",
            "should\n",
            "be\n",
            "2\n",
            "50\n",
            "to\n",
            "three\n",
            "dlrs\n",
            "reuter\n",
            "3\n"
          ]
        }
      ]
    },
    {
      "cell_type": "markdown",
      "source": [
        "Lo que tenemos en train_data no es de tipo tensor. (8982,), por lo que usaremos el codigo de vectorizar."
      ],
      "metadata": {
        "id": "yqovotQbtfKd"
      }
    },
    {
      "cell_type": "code",
      "source": [
        "def vectorizar(sequences, dim=10000):\n",
        "  results = np.zeros((len(sequences), dim))\n",
        "  for i, sequences in enumerate(sequences):\n",
        "    results[i, sequences]=1\n",
        "  return results"
      ],
      "metadata": {
        "id": "iO9JKS74twuJ"
      },
      "execution_count": null,
      "outputs": []
    },
    {
      "cell_type": "code",
      "source": [
        "x_train = vectorizar(train_data)\n",
        "x_test = vectorizar(test_data)"
      ],
      "metadata": {
        "id": "mJJAjnT8tzQB"
      },
      "execution_count": null,
      "outputs": []
    },
    {
      "cell_type": "markdown",
      "source": [
        "Train labels es un numero escalar en cada uno de los ejemplos. Debemos hacer one hoding coding con 46 posibles salidas"
      ],
      "metadata": {
        "id": "MGNsv3I2uCCp"
      }
    },
    {
      "cell_type": "code",
      "source": [
        "from keras.utils import to_categorical"
      ],
      "metadata": {
        "id": "iaHoG-R-uOLF"
      },
      "execution_count": null,
      "outputs": []
    },
    {
      "cell_type": "code",
      "source": [
        "y_train = to_categorical(train_labels)\n",
        "y_test = to_categorical(test_labels)"
      ],
      "metadata": {
        "id": "ZQg-_9KuuTbe"
      },
      "execution_count": null,
      "outputs": []
    },
    {
      "cell_type": "markdown",
      "source": [
        "Ahora vamos a crear nuestra red, ya que los elementos ahora si son tensores."
      ],
      "metadata": {
        "id": "oEzOt8sauro4"
      }
    },
    {
      "cell_type": "code",
      "source": [
        "model = models.Sequential()\n",
        "model.add(layers.Dense(64, activation='relu', input_shape = (10000,)))\n",
        "model.add(layers.Dense(64, activation='relu'))\n",
        "model.add(layers.Dense(46, activation='softmax')) #Softmax porque es clasificacion multiple"
      ],
      "metadata": {
        "id": "SY_riykluzTQ"
      },
      "execution_count": null,
      "outputs": []
    },
    {
      "cell_type": "markdown",
      "source": [
        "Ahora vamos a compilar el modelo"
      ],
      "metadata": {
        "id": "XbeUdLPTvlti"
      }
    },
    {
      "cell_type": "code",
      "source": [
        "from tensorflow.python import metrics\n",
        "model.compile(optimizer='rmsprop',\n",
        "              loss = 'categorical_crossentropy',\n",
        "              metrics=['accuracy'])"
      ],
      "metadata": {
        "id": "JMJj8ri5voHz"
      },
      "execution_count": null,
      "outputs": []
    },
    {
      "cell_type": "markdown",
      "source": [
        "Vamos a separar el set de validacion"
      ],
      "metadata": {
        "id": "5qx0XLX9wWaT"
      }
    },
    {
      "cell_type": "code",
      "source": [
        "x_val = x_train[:1000]\n",
        "partial_x_train = x_train[1000:]\n",
        "\n",
        "y_val = y_train[:1000]\n",
        "partial_y_train = y_train[1000:]"
      ],
      "metadata": {
        "id": "MI0NrXbVwZq_"
      },
      "execution_count": null,
      "outputs": []
    },
    {
      "cell_type": "markdown",
      "source": [
        "Entrenamiento"
      ],
      "metadata": {
        "id": "RPJsPU0jxJIR"
      }
    },
    {
      "cell_type": "code",
      "source": [
        "history = model.fit(partial_x_train, partial_y_train,\n",
        "          epochs=9,\n",
        "          batch_size = 512,\n",
        "          validation_data = (x_val, y_val))"
      ],
      "metadata": {
        "colab": {
          "base_uri": "https://localhost:8080/"
        },
        "id": "ywVWSgGAxKdP",
        "outputId": "c196ab16-c691-4567-dde6-841ec8f95fe9"
      },
      "execution_count": null,
      "outputs": [
        {
          "output_type": "stream",
          "name": "stdout",
          "text": [
            "Epoch 1/9\n",
            "16/16 [==============================] - 6s 30ms/step - loss: 2.4854 - accuracy: 0.5003 - val_loss: 1.6668 - val_accuracy: 0.6480\n",
            "Epoch 2/9\n",
            "16/16 [==============================] - 0s 16ms/step - loss: 1.3793 - accuracy: 0.7076 - val_loss: 1.2885 - val_accuracy: 0.7130\n",
            "Epoch 3/9\n",
            "16/16 [==============================] - 0s 16ms/step - loss: 1.0324 - accuracy: 0.7767 - val_loss: 1.1199 - val_accuracy: 0.7730\n",
            "Epoch 4/9\n",
            "16/16 [==============================] - 0s 16ms/step - loss: 0.8096 - accuracy: 0.8312 - val_loss: 1.0482 - val_accuracy: 0.7750\n",
            "Epoch 5/9\n",
            "16/16 [==============================] - 0s 16ms/step - loss: 0.6455 - accuracy: 0.8644 - val_loss: 0.9899 - val_accuracy: 0.7930\n",
            "Epoch 6/9\n",
            "16/16 [==============================] - 0s 16ms/step - loss: 0.5180 - accuracy: 0.8901 - val_loss: 0.9225 - val_accuracy: 0.8120\n",
            "Epoch 7/9\n",
            "16/16 [==============================] - 0s 16ms/step - loss: 0.4186 - accuracy: 0.9133 - val_loss: 0.9121 - val_accuracy: 0.8200\n",
            "Epoch 8/9\n",
            "16/16 [==============================] - 0s 16ms/step - loss: 0.3423 - accuracy: 0.9268 - val_loss: 0.9091 - val_accuracy: 0.8100\n",
            "Epoch 9/9\n",
            "16/16 [==============================] - 0s 15ms/step - loss: 0.2830 - accuracy: 0.9382 - val_loss: 0.9162 - val_accuracy: 0.8000\n"
          ]
        }
      ]
    },
    {
      "cell_type": "markdown",
      "source": [
        "Visualizacion"
      ],
      "metadata": {
        "id": "44GJohyJxrup"
      }
    },
    {
      "cell_type": "code",
      "source": [
        "import matplotlib.pyplot as plt\n",
        "\n",
        "history_dict = history.history\n",
        "loss_values = history_dict['loss']\n",
        "val_loss_values = history_dict['val_loss']\n",
        "\n",
        "fig = plt.figure(figsize=(10,10))\n",
        "epoch = range(1,len(loss_values) + 1)\n",
        "plt.plot(epoch, loss_values, 'o', label = 'trainig')\n",
        "plt.plot(epoch, val_loss_values, '--', label = 'validation')\n",
        "plt.legend()\n",
        "plt.show()"
      ],
      "metadata": {
        "colab": {
          "base_uri": "https://localhost:8080/",
          "height": 592
        },
        "id": "6kbZnqGMxrQ-",
        "outputId": "976e7728-8f5b-44c2-9cf4-b4629bd0efac"
      },
      "execution_count": null,
      "outputs": [
        {
          "output_type": "display_data",
          "data": {
            "text/plain": [
              "<Figure size 720x720 with 1 Axes>"
            ],
            "image/png": "[encoded data removed]"
          },
          "metadata": {
            "needs_background": "light"
          }
        }
      ]
    },
    {
      "cell_type": "code",
      "source": [
        "history_dict = history.history\n",
        "loss_values = history_dict['accuracy']\n",
        "val_loss_values = history_dict['val_accuracy']\n",
        "\n",
        "fig = plt.figure(figsize=(10,10))\n",
        "epoch = range(1,len(loss_values) + 1)\n",
        "plt.plot(epoch, loss_values, 'o', label = 'trainig')\n",
        "plt.plot(epoch, val_loss_values, '--', label = 'validation')\n",
        "plt.legend()\n",
        "plt.show()"
      ],
      "metadata": {
        "colab": {
          "base_uri": "https://localhost:8080/",
          "height": 592
        },
        "id": "j8vRPVv5z5sh",
        "outputId": "9aaaafa6-abec-481b-dd56-aedeae7c25ec"
      },
      "execution_count": null,
      "outputs": [
        {
          "output_type": "display_data",
          "data": {
            "text/plain": [
              "<Figure size 720x720 with 1 Axes>"
            ],
            "image/png": "[encoded data removed]"
          },
          "metadata": {
            "needs_background": "light"
          }
        }
      ]
    },
    {
      "cell_type": "code",
      "source": [
        "model.evaluate(x_test, y_test)"
      ],
      "metadata": {
        "colab": {
          "base_uri": "https://localhost:8080/"
        },
        "id": "kphmXaWU0EXG",
        "outputId": "70c3a0f4-d753-4763-929b-bb1a1401d943"
      },
      "execution_count": null,
      "outputs": [
        {
          "output_type": "stream",
          "name": "stdout",
          "text": [
            "71/71 [==============================] - 0s 3ms/step - loss: 0.9815 - accuracy: 0.7939\n"
          ]
        },
        {
          "output_type": "execute_result",
          "data": {
            "text/plain": [
              "[0.98154616355896, 0.7938557267189026]"
            ]
          },
          "metadata": {},
          "execution_count": 62
        }
      ]
    },
    {
      "cell_type": "code",
      "source": [
        "predictions = model.predict(x_test)"
      ],
      "metadata": {
        "colab": {
          "base_uri": "https://localhost:8080/"
        },
        "id": "uKUD76W204v_",
        "outputId": "8c7acc13-4813-4349-f7d4-cca864ae2395"
      },
      "execution_count": null,
      "outputs": [
        {
          "output_type": "stream",
          "name": "stdout",
          "text": [
            "71/71 [==============================] - 0s 3ms/step\n"
          ]
        }
      ]
    },
    {
      "cell_type": "code",
      "source": [
        "predictions[0]"
      ],
      "metadata": {
        "colab": {
          "base_uri": "https://localhost:8080/"
        },
        "id": "zI-TOgLA0-HW",
        "outputId": "5ed58064-60c2-44cc-e133-d13070a0bc21"
      },
      "execution_count": null,
      "outputs": [
        {
          "output_type": "execute_result",
          "data": {
            "text/plain": [
              "array([4.8762915e-05, 4.7996597e-04, 1.8178933e-05, 7.4469185e-01,\n",
              "       2.3960750e-01, 1.2299390e-05, 2.3513085e-05, 1.0777781e-05,\n",
              "       1.3784474e-03, 1.5803344e-04, 1.6646527e-04, 1.5610870e-03,\n",
              "       4.4810608e-05, 2.7160044e-05, 1.6725287e-05, 3.4973371e-05,\n",
              "       1.3446955e-03, 2.0339868e-03, 2.0587479e-04, 1.4708600e-03,\n",
              "       3.5332653e-03, 1.9306112e-04, 8.5521940e-05, 7.2637828e-05,\n",
              "       8.4011363e-06, 1.7388662e-05, 1.6157564e-05, 1.8070253e-04,\n",
              "       8.2507329e-05, 5.7124729e-05, 7.9425343e-05, 4.9239996e-05,\n",
              "       1.6210333e-05, 5.7495014e-05, 7.7003118e-05, 2.2573529e-05,\n",
              "       1.2715200e-04, 4.1879584e-06, 1.9890933e-04, 7.6570222e-04,\n",
              "       6.6350540e-06, 7.9629349e-04, 3.7047353e-06, 2.0667681e-04,\n",
              "       5.3732106e-06, 6.7622716e-07], dtype=float32)"
            ]
          },
          "metadata": {},
          "execution_count": 52
        }
      ]
    },
    {
      "cell_type": "code",
      "source": [
        "np.sum(predictions[0])"
      ],
      "metadata": {
        "colab": {
          "base_uri": "https://localhost:8080/"
        },
        "id": "G3vqbXsM1IQD",
        "outputId": "e674dc46-a87c-4fa8-8770-ef5f068c1088"
      },
      "execution_count": null,
      "outputs": [
        {
          "output_type": "execute_result",
          "data": {
            "text/plain": [
              "1.0"
            ]
          },
          "metadata": {},
          "execution_count": 53
        }
      ]
    },
    {
      "cell_type": "code",
      "source": [
        "np.argmax(predictions[0]) #Posicion en la que la prediccion es mas alta"
      ],
      "metadata": {
        "colab": {
          "base_uri": "https://localhost:8080/"
        },
        "id": "0VlvQOdv1QJG",
        "outputId": "ccc4f6d6-9340-44af-b59f-eef7e166c4bc"
      },
      "execution_count": null,
      "outputs": [
        {
          "output_type": "execute_result",
          "data": {
            "text/plain": [
              "3"
            ]
          },
          "metadata": {},
          "execution_count": 54
        }
      ]
    },
    {
      "cell_type": "markdown",
      "source": [
        "El modelo tiene el problema del overfiting. Se usaran las tecnicas vistas anteriormente para mejorar esto:"
      ],
      "metadata": {
        "id": "lgirEW5F2XZ4"
      }
    },
    {
      "cell_type": "markdown",
      "source": [
        "# Modelo mas simple"
      ],
      "metadata": {
        "id": "KXUfLmkR2t2i"
      }
    },
    {
      "cell_type": "code",
      "source": [
        "model2 = models.Sequential()\n",
        "model2.add(layers.Dense(56, activation='relu', input_shape = (10000,)))\n",
        "model2.add(layers.Dense(56, activation='relu'))\n",
        "model2.add(layers.Dense(46, activation='softmax'))\n",
        "\n",
        "model2.compile(optimizer='rmsprop',\n",
        "              loss = 'categorical_crossentropy',\n",
        "              metrics=['accuracy'])\n",
        "\n",
        "history2 = model2.fit(partial_x_train, partial_y_train,\n",
        "          epochs=9,\n",
        "          batch_size = 512,\n",
        "          validation_data = (x_val, y_val))"
      ],
      "metadata": {
        "colab": {
          "base_uri": "https://localhost:8080/"
        },
        "id": "yjUmslIB2yCz",
        "outputId": "3afd814b-369e-4a4c-af14-1e35825d9a9b"
      },
      "execution_count": null,
      "outputs": [
        {
          "output_type": "stream",
          "name": "stdout",
          "text": [
            "Epoch 1/9\n",
            "16/16 [==============================] - 1s 25ms/step - loss: 2.7162 - accuracy: 0.5174 - val_loss: 1.8072 - val_accuracy: 0.6240\n",
            "Epoch 2/9\n",
            "16/16 [==============================] - 0s 16ms/step - loss: 1.4613 - accuracy: 0.7033 - val_loss: 1.3572 - val_accuracy: 0.7070\n",
            "Epoch 3/9\n",
            "16/16 [==============================] - 0s 16ms/step - loss: 1.0859 - accuracy: 0.7701 - val_loss: 1.1698 - val_accuracy: 0.7350\n",
            "Epoch 4/9\n",
            "16/16 [==============================] - 0s 17ms/step - loss: 0.8610 - accuracy: 0.8128 - val_loss: 1.0585 - val_accuracy: 0.7750\n",
            "Epoch 5/9\n",
            "16/16 [==============================] - 0s 16ms/step - loss: 0.7015 - accuracy: 0.8550 - val_loss: 0.9894 - val_accuracy: 0.7940\n",
            "Epoch 6/9\n",
            "16/16 [==============================] - 0s 16ms/step - loss: 0.5674 - accuracy: 0.8815 - val_loss: 0.9561 - val_accuracy: 0.7940\n",
            "Epoch 7/9\n",
            "16/16 [==============================] - 0s 19ms/step - loss: 0.4632 - accuracy: 0.9014 - val_loss: 0.9134 - val_accuracy: 0.8140\n",
            "Epoch 8/9\n",
            "16/16 [==============================] - 0s 16ms/step - loss: 0.3813 - accuracy: 0.9228 - val_loss: 0.9027 - val_accuracy: 0.8210\n",
            "Epoch 9/9\n",
            "16/16 [==============================] - 0s 16ms/step - loss: 0.3149 - accuracy: 0.9332 - val_loss: 0.8919 - val_accuracy: 0.8240\n"
          ]
        }
      ]
    },
    {
      "cell_type": "code",
      "source": [
        "history_dict = history.history\n",
        "loss_values = history_dict['loss']\n",
        "val_loss_values = history_dict['val_loss']\n",
        "val_loss_values_2 = history2.history['val_loss']\n",
        "\n",
        "fig = plt.figure(figsize=(10,10))\n",
        "epoch = range(1,len(loss_values) + 1)\n",
        "plt.plot(epoch, loss_values, 'o', label = 'trainig')\n",
        "plt.plot(epoch, val_loss_values, '--', label = 'validation')\n",
        "plt.legend()\n",
        "plt.show()"
      ],
      "metadata": {
        "colab": {
          "base_uri": "https://localhost:8080/",
          "height": 592
        },
        "id": "dVnc8p0l3pRG",
        "outputId": "6a034641-09f9-4115-cd56-3bcbeb446949"
      },
      "execution_count": null,
      "outputs": [
        {
          "output_type": "display_data",
          "data": {
            "text/plain": [
              "<Figure size 720x720 with 1 Axes>"
            ],
            "image/png": "[encoded data removed]"
          },
          "metadata": {
            "needs_background": "light"
          }
        }
      ]
    },
    {
      "cell_type": "code",
      "source": [
        "model2.evaluate(x_test, y_test)"
      ],
      "metadata": {
        "colab": {
          "base_uri": "https://localhost:8080/"
        },
        "id": "bbOW1boe4S6j",
        "outputId": "dca236d3-fb07-4253-d8b4-854e7080163a"
      },
      "execution_count": null,
      "outputs": [
        {
          "output_type": "stream",
          "name": "stdout",
          "text": [
            "71/71 [==============================] - 0s 3ms/step - loss: 0.9859 - accuracy: 0.7841\n"
          ]
        },
        {
          "output_type": "execute_result",
          "data": {
            "text/plain": [
              "[0.9859153032302856, 0.784060537815094]"
            ]
          },
          "metadata": {},
          "execution_count": 73
        }
      ]
    },
    {
      "cell_type": "markdown",
      "source": [
        "En este caso, podemos ver que con un modelo mas sencillo, el accuracy empeora"
      ],
      "metadata": {
        "id": "53recTiw48Qf"
      }
    },
    {
      "cell_type": "markdown",
      "source": [
        "# Regularizacion"
      ],
      "metadata": {
        "id": "rC_EiRKP5k2w"
      }
    },
    {
      "cell_type": "code",
      "source": [
        "from keras import regularizers"
      ],
      "metadata": {
        "id": "u97Kbh5U5sTE"
      },
      "execution_count": null,
      "outputs": []
    },
    {
      "cell_type": "code",
      "source": [
        "model3 = models.Sequential()\n",
        "model3.add(layers.Dense(64, activation='relu', input_shape = (10000,),\n",
        "                        kernel_regularizer = regularizers.l2(0.001)))\n",
        "model3.add(layers.Dense(64, activation='relu', kernel_regularizer = regularizers.l2(0.001)))\n",
        "model3.add(layers.Dense(46, activation='softmax'))\n",
        "\n",
        "model3.compile(optimizer='rmsprop',\n",
        "              loss = 'categorical_crossentropy',\n",
        "              metrics=['accuracy'])\n",
        "\n",
        "history3 = model3.fit(partial_x_train, partial_y_train,\n",
        "          epochs=9,\n",
        "          batch_size = 512,\n",
        "          validation_data = (x_val, y_val))"
      ],
      "metadata": {
        "id": "eEc7sebB5vqm"
      },
      "execution_count": null,
      "outputs": []
    },
    {
      "cell_type": "code",
      "source": [
        "history_dictr = history.history\n",
        "loss_values = history_dictr['loss']\n",
        "val_loss_values = history_dictr['val_loss']\n",
        "val_loss_values_3 = history3.history['val_loss']\n",
        "\n",
        "epoch = range(1,len(loss_values) + 1)\n",
        "plt.plot(epoch, val_loss_values_3, 'o', label = 'regularizacion')\n",
        "plt.plot(epoch, val_loss_values, '--', label = 'original')\n",
        "plt.legend()\n",
        "plt.show()"
      ],
      "metadata": {
        "colab": {
          "base_uri": "https://localhost:8080/",
          "height": 265
        },
        "id": "dRWXn3u96hiJ",
        "outputId": "6fe30982-6da0-454a-b515-5aba61291c34"
      },
      "execution_count": null,
      "outputs": [
        {
          "output_type": "display_data",
          "data": {
            "text/plain": [
              "<Figure size 432x288 with 1 Axes>"
            ],
            "image/png": "[encoded data removed]"
          },
          "metadata": {
            "needs_background": "light"
          }
        }
      ]
    },
    {
      "cell_type": "code",
      "source": [
        "model3.evaluate(x_test, y_test)"
      ],
      "metadata": {
        "colab": {
          "base_uri": "https://localhost:8080/"
        },
        "id": "WHQFJ-GW6qI0",
        "outputId": "52fee625-7da5-454f-fd62-84a8c0018f6b"
      },
      "execution_count": null,
      "outputs": [
        {
          "output_type": "stream",
          "name": "stdout",
          "text": [
            "71/71 [==============================] - 0s 3ms/step - loss: 1.1715 - accuracy: 0.7796\n"
          ]
        },
        {
          "output_type": "execute_result",
          "data": {
            "text/plain": [
              "[1.1714715957641602, 0.7796081900596619]"
            ]
          },
          "metadata": {},
          "execution_count": 77
        }
      ]
    },
    {
      "cell_type": "markdown",
      "source": [
        "# Dropout"
      ],
      "metadata": {
        "id": "NMKnMb_q7lSX"
      }
    },
    {
      "cell_type": "code",
      "source": [
        "from keras.backend import dropout\n",
        "\n",
        "model4 = models.Sequential()\n",
        "model4.add(layers.Dense(64, activation='relu', input_shape = (10000,)))\n",
        "model4.add(layers.Dropout(0.75))\n",
        "model4.add(layers.Dense(64, activation='relu'))\n",
        "model4.add(layers.Dropout(0.25))\n",
        "model4.add(layers.Dense(46, activation='softmax'))\n",
        "\n",
        "model4.compile(optimizer='rmsprop',\n",
        "              loss = 'categorical_crossentropy',\n",
        "              metrics=['accuracy'])\n",
        "\n",
        "history4 = model4.fit(partial_x_train, partial_y_train,\n",
        "          epochs=9,\n",
        "          batch_size = 512,\n",
        "          validation_data = (x_val, y_val))"
      ],
      "metadata": {
        "colab": {
          "base_uri": "https://localhost:8080/"
        },
        "id": "mA2JZHny7nL9",
        "outputId": "1b9a02c5-0f20-403e-84ff-a8392e6deb25"
      },
      "execution_count": null,
      "outputs": [
        {
          "output_type": "stream",
          "name": "stdout",
          "text": [
            "Epoch 1/9\n",
            "16/16 [==============================] - 1s 30ms/step - loss: 3.1756 - accuracy: 0.3211 - val_loss: 2.2552 - val_accuracy: 0.5360\n",
            "Epoch 2/9\n",
            "16/16 [==============================] - 0s 16ms/step - loss: 2.1879 - accuracy: 0.4991 - val_loss: 1.7213 - val_accuracy: 0.6110\n",
            "Epoch 3/9\n",
            "16/16 [==============================] - 0s 16ms/step - loss: 1.8327 - accuracy: 0.5522 - val_loss: 1.5295 - val_accuracy: 0.6540\n",
            "Epoch 4/9\n",
            "16/16 [==============================] - 0s 17ms/step - loss: 1.6466 - accuracy: 0.6015 - val_loss: 1.4116 - val_accuracy: 0.6750\n",
            "Epoch 5/9\n",
            "16/16 [==============================] - 0s 17ms/step - loss: 1.5585 - accuracy: 0.6178 - val_loss: 1.3558 - val_accuracy: 0.6880\n",
            "Epoch 6/9\n",
            "16/16 [==============================] - 0s 16ms/step - loss: 1.4769 - accuracy: 0.6438 - val_loss: 1.2892 - val_accuracy: 0.7020\n",
            "Epoch 7/9\n",
            "16/16 [==============================] - 0s 16ms/step - loss: 1.3881 - accuracy: 0.6548 - val_loss: 1.2486 - val_accuracy: 0.7100\n",
            "Epoch 8/9\n",
            "16/16 [==============================] - 0s 18ms/step - loss: 1.3509 - accuracy: 0.6704 - val_loss: 1.2210 - val_accuracy: 0.7130\n",
            "Epoch 9/9\n",
            "16/16 [==============================] - 0s 15ms/step - loss: 1.2934 - accuracy: 0.6776 - val_loss: 1.1857 - val_accuracy: 0.7280\n"
          ]
        }
      ]
    },
    {
      "cell_type": "code",
      "source": [
        "history_dictr = history.history\n",
        "loss_values = history_dictr['loss']\n",
        "val_loss_values = history_dictr['val_loss']\n",
        "val_loss_values_4 = history4.history['val_loss']\n",
        "\n",
        "epoch = range(1,len(loss_values) + 1)\n",
        "plt.plot(epoch, val_loss_values_4, 'o', label = 'Dropout')\n",
        "plt.plot(epoch, val_loss_values, '--', label = 'original')\n",
        "plt.legend()\n",
        "plt.show()"
      ],
      "metadata": {
        "colab": {
          "base_uri": "https://localhost:8080/",
          "height": 265
        },
        "id": "6oVo8j3J8iau",
        "outputId": "9c8eb649-5f1a-45e4-a434-d6498eaa7414"
      },
      "execution_count": null,
      "outputs": [
        {
          "output_type": "display_data",
          "data": {
            "text/plain": [
              "<Figure size 432x288 with 1 Axes>"
            ],
            "image/png": "[encoded data removed]"
          },
          "metadata": {
            "needs_background": "light"
          }
        }
      ]
    },
    {
      "cell_type": "code",
      "source": [
        "model4.evaluate(x_test, y_test)"
      ],
      "metadata": {
        "colab": {
          "base_uri": "https://localhost:8080/"
        },
        "id": "Jmqmoqxw8t_-",
        "outputId": "ac023c43-f3ea-4dc8-8d3e-dd1da3144a1d"
      },
      "execution_count": null,
      "outputs": [
        {
          "output_type": "stream",
          "name": "stdout",
          "text": [
            "71/71 [==============================] - 0s 3ms/step - loss: 1.2488 - accuracy: 0.7124\n"
          ]
        },
        {
          "output_type": "execute_result",
          "data": {
            "text/plain": [
              "[1.2487763166427612, 0.7123775482177734]"
            ]
          },
          "metadata": {},
          "execution_count": 90
        }
      ]
    }
  ]
}